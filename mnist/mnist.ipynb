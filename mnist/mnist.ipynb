{
 "cells": [
  {
   "cell_type": "markdown",
   "metadata": {},
   "source": [
    "The MNIST dataset: download and pre-processing\n",
    "==========================\n",
    "\n",
    "The MNIST dataset can be downloaded from [yann.lecun.com/exdb/mnist/](http://yann.lecun.com/exdb/mnist/). The total size is only 11 MB. The training set contains 60000 examples, and the test set 10000 examples. You can also directly download the files using the links below:\n",
    "\n",
    "- [train-images-idx3-ubyte.gz](http://yann.lecun.com/exdb/mnist/train-images-idx3-ubyte.gz): training set images (9.9 MB) \n",
    "- [train-labels-idx1-ubyte.gz](http://yann.lecun.com/exdb/mnist/train-labels-idx1-ubyte.gz): training set labels (0.3 MB)\n",
    "- [t10k-images-idx3-ubyte.gz](http://yann.lecun.com/exdb/mnist/t10k-images-idx3-ubyte.gz): test set images (1.6 MB) \n",
    "- [t10k-labels-idx1-ubyte.gz](http://yann.lecun.com/exdb/mnist/t10k-labels-idx1-ubyte.gz): test set labels (0.4 MB)\n",
    "\n",
    "The original black and white (bilevel) images from NIST were size normalized to fit in a 20x20 pixel box while preserving their aspect ratio. The resulting images contain grey levels as a result of the anti-aliasing technique used by the normalization algorithm. the images were centered in a 28x28 image by computing the center of mass of the pixels, and translating the image so as to position this point at the center of the 28x28 field. Both images and labels are stored the **IDX format**, that serialise in a sequence of bytes the information.\n",
    "\n",
    "The file containing the **labels** (test or training) follows this convention:\n",
    "\n",
    "```\n",
    "[offset] [type]          [value]          [description] \n",
    "0000     32 bit integer  0x00000801(2049) magic number (MSB first) \n",
    "0004     32 bit integer  10000 or 60000   number of items \n",
    "0008     unsigned byte   ??               label \n",
    "0009     unsigned byte   ??               label \n",
    "........ \n",
    "xxxx     unsigned byte   ??               label\n",
    "```\n",
    "\n",
    "The file containing the **images** (test or training) follows this convention:\n",
    "\n",
    "```\n",
    "[offset] [type]          [value]          [description] \n",
    "0000     32 bit integer  0x00000803(2051) magic number \n",
    "0004     32 bit integer  10000 or 60000   number of images \n",
    "0008     32 bit integer  28               number of rows \n",
    "0012     32 bit integer  28               number of columns \n",
    "0016     unsigned byte   ??               pixel \n",
    "0017     unsigned byte   ??               pixel \n",
    "........ \n",
    "xxxx     unsigned byte   ??               pixel\n",
    "```\n",
    "\n",
    "**Attention**: to continue the tutorial you have to download and uncompress the 4 files above."
   ]
  },
  {
   "cell_type": "markdown",
   "metadata": {},
   "source": [
    "From IDX to TFRecord format\n",
    "-------------------------------------\n",
    "\n",
    "In this session I will show you how to convert the IDX file format used to store the mnist dataset, to the TFRecord format used in tensorflow. The TFRecord file format is a simple record-oriented binary format that many tensorflow applications use for training data. First of all we need to import tensorflow and numpy:"
   ]
  },
  {
   "cell_type": "code",
   "execution_count": null,
   "metadata": {
    "collapsed": true
   },
   "outputs": [],
   "source": [
    "import tensorflow as tf\n",
    "import numpy as np"
   ]
  },
  {
   "cell_type": "markdown",
   "metadata": {},
   "source": [
    "Here I will use Numpy to load the binary file in memory. Numpy has a method called `fromfile()` that allows us to read the binary file and turn it into a matrix. I will take only the significant part of the data, discarding the first 8 and 16 bytes of the IDX files."
   ]
  },
  {
   "cell_type": "code",
   "execution_count": 7,
   "metadata": {
    "collapsed": false
   },
   "outputs": [
    {
     "name": "stdout",
     "output_type": "stream",
     "text": [
      "Test labels shape: (10000,)\n",
      "Test images shape: (10000, 784)\n",
      "Train labels shape: (60000,)\n",
      "Train images shape: (60000, 784)\n"
     ]
    }
   ],
   "source": [
    "test_labels_path = \"./t10k-labels.idx1-ubyte\"\n",
    "test_labels_array = np.fromfile(test_labels_path, dtype=np.uint8)[8:]\n",
    "print \"Test labels shape: \" + str(test_labels_array.shape)\n",
    "\n",
    "test_images_path = \"./t10k-images.idx3-ubyte\"\n",
    "test_images_array = np.fromfile(test_images_path, dtype=np.uint8)[16:]\n",
    "test_images_array = np.reshape(test_images_array, [10000, 28*28])\n",
    "print \"Test images shape: \" + str(test_images_array.shape)\n",
    "\n",
    "train_labels_path = \"./train-labels.idx1-ubyte\"\n",
    "train_labels_array = np.fromfile(train_labels_path, dtype=np.uint8)[8:]\n",
    "print \"Train labels shape: \" + str(train_labels_array.shape)\n",
    "\n",
    "train_images_path = \"./train-images.idx3-ubyte\"\n",
    "train_images_array = np.fromfile(train_images_path, dtype=np.uint8)[16:]\n",
    "train_images_array = np.reshape(train_images_array, [60000, 28*28])\n",
    "print \"Train images shape: \" + str(train_images_array.shape)"
   ]
  },
  {
   "cell_type": "markdown",
   "metadata": {},
   "source": [
    "Now it is necessary to create a **TFRecord** file that we can easily use in Tensorflow. We can do it using the following function:"
   ]
  },
  {
   "cell_type": "code",
   "execution_count": 10,
   "metadata": {
    "collapsed": true
   },
   "outputs": [],
   "source": [
    "def numpy_to_tfrecord(images_array, labels_array, output_file):\n",
    "    with tf.python_io.TFRecordWriter(output_file) as record_writer:\n",
    "            for i in range(labels_array.shape[0]):\n",
    "                #Getting the data as train feature\n",
    "                bytes_feature = tf.train.Feature(bytes_list=tf.train.BytesList(value=[images_array[i].tobytes()]))\n",
    "                int64_feature = tf.train.Feature(int64_list=tf.train.Int64List(value=[labels_array[i]]))\n",
    "                #Stuff the data in an Example buffer\n",
    "                example = tf.train.Example(features=tf.train.Features(feature={'image': bytes_feature,\n",
    "                                                                               'label': int64_feature}))\n",
    "                #Serialize example to string and write in tfrecords\n",
    "                record_writer.write(example.SerializeToString())"
   ]
  },
  {
   "cell_type": "code",
   "execution_count": 11,
   "metadata": {
    "collapsed": false
   },
   "outputs": [],
   "source": [
    "numpy_to_tfrecord(test_images_array, test_labels_array, \"./mnist_test.tfrecord\")"
   ]
  },
  {
   "cell_type": "code",
   "execution_count": 12,
   "metadata": {
    "collapsed": true
   },
   "outputs": [],
   "source": [
    "numpy_to_tfrecord(train_images_array, train_labels_array, \"./mnist_train.tfrecord\")"
   ]
  },
  {
   "cell_type": "markdown",
   "metadata": {},
   "source": [
    "From TFRecors to Tensorflow Dataset\n",
    "-----------------------------------------\n",
    "\n",
    "The two TFRecord files are ready to be used. Like for the CIFAR-10 tutorial we are gonna use the class `tf.data.TFRecordDataset` in order to manipulate the images. Once you have a Dataset object, you can transform it into a new Dataset by chaining method calls on the `tf.data.Dataset` object. For example, you can apply per-element transformations such as `Dataset.map()` (to apply a function to each element), and multi-element transformations such as `Dataset.batch()`.\n",
    "\n",
    "The `Dataset.map()` method takes as input a **parse function** that takes each single image and labels and adjust them. Here the image is converted back to `uint8` data type (because TFRecord stored the image as string) and the label is converted from a single integer representing the class to a one-hot vector that can be used in classification models."
   ]
  },
  {
   "cell_type": "code",
   "execution_count": 26,
   "metadata": {
    "collapsed": false
   },
   "outputs": [
    {
     "name": "stdout",
     "output_type": "stream",
     "text": [
      "Loading the datasets...\n",
      "Parsing the datasets...\n",
      "Verifying types and shapes...\n",
      "(tf.uint8, tf.float32)\n",
      "(TensorShape([Dimension(28), Dimension(28)]), TensorShape([Dimension(10)]))\n"
     ]
    }
   ],
   "source": [
    "def _parse_function(example_proto):\n",
    "    features = {\"image\": tf.FixedLenFeature((), tf.string, default_value=\"\"),\n",
    "              \"label\": tf.FixedLenFeature((), tf.int64, default_value=0)}\n",
    "    parsed_features = tf.parse_single_example(example_proto, features)\n",
    "    image_decoded = tf.decode_raw(parsed_features[\"image\"], tf.uint8) #char -> uint8\n",
    "    image_reshaped = tf.reshape(image_decoded, [28, 28])\n",
    "    label_one_hot = tf.one_hot(parsed_features[\"label\"], depth=10)\n",
    "    return image_reshaped, label_one_hot\n",
    "\n",
    "print \"Loading the datasets...\"\n",
    "tf_train_dataset = tf.data.TFRecordDataset(\"./mnist_train.tfrecord\")\n",
    "print \"Parsing the datasets...\"\n",
    "tf_train_dataset = tf_train_dataset.map(_parse_function)\n",
    "print \"Verifying types and shapes...\"\n",
    "print(tf_train_dataset.output_types)\n",
    "print(tf_train_dataset.output_shapes)"
   ]
  },
  {
   "cell_type": "markdown",
   "metadata": {},
   "source": [
    "Using the Tensorflow Dataset in a session\n",
    "-------------------------------------------------\n",
    "\n",
    "Now the tensorflow datasets have been created and they are ready to be used in a session. The most common way to consume values from a Dataset is to make an **iterator** object that provides access to one element of the dataset at a time. A **one-shot iterator** is the simplest form of iterator, which only supports iterating once through a dataset, with no need for explicit initialization. Here I define a tensorflow iterator that can be used in our session, the size of the bacth, and the number of epochs."
   ]
  },
  {
   "cell_type": "code",
   "execution_count": 15,
   "metadata": {
    "collapsed": true
   },
   "outputs": [],
   "source": [
    "with tf.name_scope('dataset'):\n",
    "    batch_size = 32\n",
    "    num_epochs = 5\n",
    "    tf_train_dataset = tf_train_dataset.batch(batch_size)\n",
    "    tf_train_dataset = tf_train_dataset.repeat(num_epochs)\n",
    "    iterator = tf_train_dataset.make_one_shot_iterator()\n",
    "    next_batch_imgs, next_batch_labels = iterator.get_next()"
   ]
  },
  {
   "cell_type": "markdown",
   "metadata": {},
   "source": [
    "The `Iterator.get_next()` method returns one or more `tf.Tensor` objects that correspond to the symbolic next element of an iterator. If the iterator reaches the end of the dataset, executing the `Iterator.get_next()` operation will raise a `tf.errors.OutOfRangeError`. After this point the iterator will be in an unusable state, and you must initialize it again if you want to use it further. A common pattern is to wrap the \"training loop\" in a try-except block:\n",
    "\n",
    "```\n",
    "while True:\n",
    "  try:\n",
    "    sess.run(result)\n",
    "  except tf.errors.OutOfRangeError:\n",
    "    break\n",
    "```\n",
    "Now I define a new session and then I ask for a new batch of images and labels. Every time that the `sess.run()` is called a new batch is returned..."
   ]
  },
  {
   "cell_type": "code",
   "execution_count": 16,
   "metadata": {
    "collapsed": true
   },
   "outputs": [],
   "source": [
    "sess = tf.Session()"
   ]
  },
  {
   "cell_type": "code",
   "execution_count": 17,
   "metadata": {
    "collapsed": true
   },
   "outputs": [],
   "source": [
    "features, labels = sess.run([next_batch_imgs, next_batch_labels])"
   ]
  },
  {
   "cell_type": "markdown",
   "metadata": {},
   "source": [
    "We can sample a random image and the one-hot label from the batch, and visualize them through matplotlib..."
   ]
  },
  {
   "cell_type": "code",
   "execution_count": 31,
   "metadata": {
    "collapsed": false
   },
   "outputs": [
    {
     "name": "stdout",
     "output_type": "stream",
     "text": [
      "Label value: 3\n",
      "One-hot-vector: [0. 0. 0. 1. 0. 0. 0. 0. 0. 0.]\n",
      "Batch shape: (32, 28, 28)\n"
     ]
    },
    {
     "data": {
      "image/png": "[encoded data removed]",
      "text/plain": [
       "<matplotlib.figure.Figure at 0x7f4cc0b53ad0>"
      ]
     },
     "metadata": {},
     "output_type": "display_data"
    }
   ],
   "source": [
    "from matplotlib import pyplot as plt\n",
    "%matplotlib inline\n",
    "random_int = np.random.randint(0, 32)\n",
    "image = features[random_int,:,:]\n",
    "label = labels[random_int]\n",
    "print \"Label value: \" + str(np.argmax(label))\n",
    "print \"One-hot-vector: \" + str(label)\n",
    "print \"Batch shape: \" + str(features.shape)\n",
    "plt.imshow(image)\n",
    "plt.show() "
   ]
  },
  {
   "cell_type": "code",
   "execution_count": null,
   "metadata": {
    "collapsed": true
   },
   "outputs": [],
   "source": []
  }
 ],
 "metadata": {
  "kernelspec": {
   "display_name": "Python 2",
   "language": "python",
   "name": "python2"
  },
  "language_info": {
   "codemirror_mode": {
    "name": "ipython",
    "version": 2
   },
   "file_extension": ".py",
   "mimetype": "text/x-python",
   "name": "python",
   "nbconvert_exporter": "python",
   "pygments_lexer": "ipython2",
   "version": "2.7.6"
  }
 },
 "nbformat": 4,
 "nbformat_minor": 0
}
