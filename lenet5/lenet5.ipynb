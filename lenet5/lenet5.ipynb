{
 "cells": [
  {
   "cell_type": "markdown",
   "metadata": {},
   "source": [
    "LeNet-5 Convolutional Neural Network\n",
    "====================\n",
    "\n",
    "In this tutorial I will show you how to implement the LeNet-5 CNN with tensorflow. LeNet-5, a pioneering 7-level convolutional network that classifies digits, was applied by several banks to recognise hand-written numbers on checks (cheques) digitized in 28x28 pixel images.\n",
    "\n",
    "This tutorial requires the **MNIST dataset**. The dataset can be downloaded and prepared following [this notebook](./../mnist/mnist.ipynb). Here we need the train and test files (in TFRecord format) that have been produced at the end of the notebook."
   ]
  },
  {
   "cell_type": "markdown",
   "metadata": {},
   "source": [
    "The LeNet-5 architecture\n",
    "----------------------------\n",
    "\n",
    "In this section we are going to give a look to the structure of the LeNet-5. This will give you a wider perspective on the tensorflow implementation.\n",
    "\n",
    "<p align=\"center\">\n",
    "<img src=\"./etc/lenet5_architecture.png\" width=\"750\">\n",
    "</p>\n",
    "\n",
    "The LeNet-5 has a 32x32 input matrix. However, the MNIST dataset has images of size 28x28. This is explained in the original paper as a way to center distinctive features (e.g. stroke end-points, corners) in the receptive field of the highest-level feature detectors.\n"
   ]
  },
  {
   "cell_type": "markdown",
   "metadata": {},
   "source": [
    "Implementation in Tensorflow\n",
    "--------------------------------"
   ]
  },
  {
   "cell_type": "code",
   "execution_count": null,
   "metadata": {
    "collapsed": true
   },
   "outputs": [],
   "source": [
    "import tensorflow as tf"
   ]
  },
  {
   "cell_type": "code",
   "execution_count": null,
   "metadata": {
    "collapsed": true
   },
   "outputs": [],
   "source": []
  }
 ],
 "metadata": {
  "kernelspec": {
   "display_name": "Python 2",
   "language": "python",
   "name": "python2"
  },
  "language_info": {
   "codemirror_mode": {
    "name": "ipython",
    "version": 2
   },
   "file_extension": ".py",
   "mimetype": "text/x-python",
   "name": "python",
   "nbconvert_exporter": "python",
   "pygments_lexer": "ipython2",
   "version": "2.7.6"
  }
 },
 "nbformat": 4,
 "nbformat_minor": 0
}
