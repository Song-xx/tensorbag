{
 "cells": [
  {
   "cell_type": "markdown",
   "metadata": {},
   "source": [
    "Generative Adversarial Networks\n",
    "-----------------------------------\n",
    "\n",
    "In this jupyter notebook we will see how to implement a **Generative Adversarial Network (GAN)** in Tensorflow. \n",
    "\n",
    "The CIFAR-10 dataset can be downloaded the [https://www.cs.toronto.edu/~kriz/](https://www.cs.toronto.edu/~kriz/) and it is a single compressed file containing serialized numpy arrays:\n",
    "\n",
    "- [cifar-10-python.tar.gz](https://www.cs.toronto.edu/~kriz/cifar-10-python.tar.gz): test and training sets (163 MB)\n",
    "\n",
    "The following are the software requirements necessary for running the code:\n",
    "\n",
    "- Python 2.7 [[install]](https://www.python.org/)\n",
    "- Tensorflow >= 1.5 [[install]](https://www.tensorflow.org/install/)\n",
    "- Numpy [[install]](https://scipy.org/install.html)\n",
    "\n",
    "To check your tensorflow version run this snippet:"
   ]
  },
  {
   "cell_type": "code",
   "execution_count": 5,
   "metadata": {
    "collapsed": false
   },
   "outputs": [
    {
     "name": "stdout",
     "output_type": "stream",
     "text": [
      "1.5.0\n"
     ]
    }
   ],
   "source": [
    "import pickle\n",
    "import numpy as np\n",
    "import tensorflow as tf\n",
    "print(tf.__version__)"
   ]
  },
  {
   "cell_type": "code",
   "execution_count": null,
   "metadata": {
    "collapsed": true
   },
   "outputs": [],
   "source": []
  }
 ],
 "metadata": {
  "kernelspec": {
   "display_name": "Python 2",
   "language": "python",
   "name": "python2"
  },
  "language_info": {
   "codemirror_mode": {
    "name": "ipython",
    "version": 2
   },
   "file_extension": ".py",
   "mimetype": "text/x-python",
   "name": "python",
   "nbconvert_exporter": "python",
   "pygments_lexer": "ipython2",
   "version": "2.7.6"
  }
 },
 "nbformat": 4,
 "nbformat_minor": 0
}
