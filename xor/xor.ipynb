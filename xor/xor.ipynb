{
 "cells": [
  {
   "cell_type": "markdown",
   "metadata": {},
   "source": [
    "The XOR dataset\n",
    "=========\n",
    "\n",
    "The XOR dataset is a non-linear dataset that is based on the [Exclusive OR](https://en.wikipedia.org/wiki/Exclusive_or) logical operation. Given two inputs and one output, the output is equal to 1 (true) only when the two inputs have the same value (both true or both false):\n",
    "\n",
    "- 1 XOR 1 = 0\n",
    "- 1 XOR 0 = 1\n",
    "- 0 XOR 1 = 1\n",
    "- 0 XOR 0 = 0\n",
    "\n",
    "The **XOR affair** was one of the reason that lead to dismiss research on neural networks in the Seventies. Altough there waere multiple factors that influenced this phenomenon, one of the main reason was the publication of the book called [Perceptron](https://en.wikipedia.org/wiki/Perceptrons_(book) by Minsky and Papert in the 1969. In the book was proved that a simple neural network (like the Perceptron invented by [Rosenblat](https://en.wikipedia.org/wiki/Frank_Rosenblatt)) was not able to solve non-linear problems like the XOR classification task. Only in the Eighties it was discovered that using a multi-layer version of the Perceptron it was possible to solve the XOR problem.\n",
    "\n",
    "Here I will show you how to build the XOR dataset from scratch using Tensorflow and how to store it in a TFRecord file that can be used to train and test our models. The idea is to generate random points in a **Cartesian plane**. We need two input values in order to apply the XOR operator. We can use the X and Y coordinate of the plane to represent those inputs. Each point has an associated label, in our case we represent true with a positive number, and false with a negative number. In this way we have an input tuple of two values and a single output representing the target."
   ]
  },
  {
   "cell_type": "code",
   "execution_count": 12,
   "metadata": {
    "collapsed": false
   },
   "outputs": [],
   "source": [
    "import tensorflow as tf\n",
    "\n",
    "interval = 10 #the interval used to generate the points\n",
    "dataset_size = 2500 #elements in each quadrant (total = dataset_size * 4)\n",
    "\n",
    "#those are the portion of the Cartesian plane having equal-sign coordinates\n",
    "input_up_right = tf.random_uniform([dataset_size, 2], minval=0, maxval=interval, dtype=tf.float32)\n",
    "target_up_right = tf.ones([dataset_size, 1], dtype=tf.float32)\n",
    "input_down_left = tf.random_uniform([dataset_size, 2], minval=-interval, maxval=0, dtype=tf.float32)\n",
    "target_down_left = tf.ones([dataset_size, 1], dtype=tf.float32)\n",
    "\n",
    "#the up-left quadrant has positive Y and negative X\n",
    "input_up_left_x = tf.random_uniform([dataset_size, 1], minval=-interval, maxval=0, dtype=tf.float32)\n",
    "input_up_left_y = tf.random_uniform([dataset_size, 1], minval=0, maxval=interval, dtype=tf.float32)\n",
    "input_up_left = tf.concat([input_up_left_x, input_up_left_y], axis=1)\n",
    "target_up_left = tf.zeros([dataset_size, 1], dtype=tf.float32)\n",
    "\n",
    "#the down_right quadrant has positive X and negative Y\n",
    "input_down_right_x = tf.random_uniform([dataset_size, 1], minval=0, maxval=interval, dtype=tf.float32)\n",
    "input_down_right_y = tf.random_uniform([dataset_size, 1], minval=-interval, maxval=0, dtype=tf.float32)\n",
    "input_down_right = tf.concat([input_down_right_x, input_down_right_y], axis=1)\n",
    "target_down_right = tf.zeros([dataset_size, 1], dtype=tf.float32)\n",
    "\n",
    "#now we can concatenate (vertically) the four quadrants into a dataset\n",
    "xor_features = tf.concat([input_up_right, input_down_left, input_up_left ,input_down_right], axis=0)\n",
    "xor_labels = tf.concat([target_up_right, target_down_left, target_up_left, target_down_right], axis=0)"
   ]
  },
  {
   "cell_type": "markdown",
   "metadata": {},
   "source": [
    "To verify that everything is correct, we can use Matplotlib to plot the dataset as a scatterplot."
   ]
  },
  {
   "cell_type": "code",
   "execution_count": 13,
   "metadata": {
    "collapsed": false
   },
   "outputs": [
    {
     "data": {
      "image/png": "[encoded data removed]",
      "text/plain": [
       "<matplotlib.figure.Figure at 0x7fcde8515d90>"
      ]
     },
     "metadata": {},
     "output_type": "display_data"
    }
   ],
   "source": [
    "import matplotlib.pyplot as plt\n",
    "%matplotlib inline\n",
    "\n",
    "#declare an interactive session \n",
    "#and convert tensor to numpy arrays\n",
    "sess = tf.InteractiveSession()\n",
    "xor_features_np = xor_features.eval()\n",
    "xor_labels_np = xor_labels.eval()\n",
    "\n",
    "#We show only a part of the dataset\n",
    "portion = 200\n",
    "chunk = dataset_size\n",
    "interval = chunk*0\n",
    "plt.plot(xor_features_np[interval:interval+portion,0], xor_features_np[interval:interval+portion,1], 'r.')\n",
    "interval = chunk*1\n",
    "plt.plot(xor_features_np[interval:interval+portion,0], xor_features_np[interval:interval+portion,1], 'r.')\n",
    "interval = chunk*2\n",
    "plt.plot(xor_features_np[interval:interval+portion,0], xor_features_np[interval:interval+portion,1], 'b.')\n",
    "interval = chunk*3\n",
    "plt.plot(xor_features_np[interval:interval+portion,0], xor_features_np[interval:interval+portion,1], 'b.')\n",
    "plt.show()"
   ]
  },
  {
   "cell_type": "markdown",
   "metadata": {},
   "source": [
    "Save in TFRecords format\n",
    "-----------------------------\n",
    "\n",
    "We can use the numpy arrays in order to store the dataset in a TFRecord file. First of all we have to create a function that is able to convert the array in a serial file. Then we can use the function on our dataset and store the files on disk. I will split the dataset in test and training set. The test set is 1/5 of the total dataset. "
   ]
  },
  {
   "cell_type": "code",
   "execution_count": 14,
   "metadata": {
    "collapsed": true
   },
   "outputs": [],
   "source": [
    "def numpy_to_tfrecord(features_array, labels_array, output_file):\n",
    "    with tf.python_io.TFRecordWriter(output_file) as record_writer:\n",
    "        for i in range(labels_array.shape[0]):\n",
    "            #Getting the data as train feature \n",
    "            float_feature = tf.train.Feature(float_list=tf.train.FloatList(value=features_array[i].tolist()))\n",
    "            int64_feature = tf.train.Feature(int64_list=tf.train.Int64List(value=[labels_array[i]]))\n",
    "            #Stuff the data in an Example buffer\n",
    "            example = tf.train.Example(features=tf.train.Features(feature={'feature': float_feature,\n",
    "                                                                           'label': int64_feature}))\n",
    "            #Serialize example to string and write in tfrecords\n",
    "            record_writer.write(example.SerializeToString())"
   ]
  },
  {
   "cell_type": "code",
   "execution_count": 25,
   "metadata": {
    "collapsed": false
   },
   "outputs": [
    {
     "name": "stdout",
     "output_type": "stream",
     "text": [
      "Checking shuffle consistency...\n",
      "[4.544022  5.6938944 1.       ]\n",
      "[-8.931404 -6.04717   1.      ]\n",
      "\n",
      "Train features: (8000, 2)\n",
      "Train labels: (8000, 1)\n",
      "\n",
      "Test features: (2000, 2)\n",
      "Test labels: (2000, 1)\n"
     ]
    }
   ],
   "source": [
    "import numpy as np\n",
    "\n",
    "#merging for shuffling\n",
    "xor_merged = np.concatenate([xor_features_np, xor_labels_np], axis=1)\n",
    "print(\"Checking shuffle consistency...\")\n",
    "print(xor_merged[10]) #printing a random value before shuffle\n",
    "np.random.shuffle(xor_merged)\n",
    "print(xor_merged[10]) #printing the same value after shuffle\n",
    "print(\"\")\n",
    "#unmerging after shuffling\n",
    "xor_features_np = xor_merged[:,0:2]\n",
    "xor_labels_np = xor_merged[:,2:]\n",
    "\n",
    "#splitting in training and test set\n",
    "to_take =  xor_features_np.shape[0] - (xor_features_np.shape[0] / 5)\n",
    "xor_features_train = xor_features_np[0:to_take,:]\n",
    "xor_labels_train = xor_labels_np[0:to_take,:]\n",
    "xor_features_test = xor_features_np[to_take:,:]\n",
    "xor_labels_test = xor_labels_np[to_take:,:]\n",
    "\n",
    "print(\"Train features: \" + str(xor_features_train.shape))\n",
    "print(\"Train labels: \" + str(xor_labels_train.shape))\n",
    "#random_indeces = [200, 2845, 5009, 7985]\n",
    "#print(xor_features_train[random_indeces])\n",
    "#print(xor_labels_train[random_indeces])\n",
    "print(\"\")\n",
    "print(\"Test features: \" + str(xor_features_test.shape))\n",
    "print(\"Test labels: \" + str(xor_labels_test.shape))"
   ]
  },
  {
   "cell_type": "code",
   "execution_count": 26,
   "metadata": {
    "collapsed": true
   },
   "outputs": [],
   "source": [
    "numpy_to_tfrecord(xor_features_train, xor_labels_train, \"./xor_train.tfrecord\")"
   ]
  },
  {
   "cell_type": "code",
   "execution_count": 27,
   "metadata": {
    "collapsed": true
   },
   "outputs": [],
   "source": [
    "numpy_to_tfrecord(xor_features_test, xor_labels_test, \"./xor_test.tfrecord\")"
   ]
  },
  {
   "cell_type": "markdown",
   "metadata": {},
   "source": [
    "Conclusions\n",
    "-------------\n",
    "\n",
    "The TFRecord files of the XOR dataset can be easily used in a Tensorflow model. The features are represented as a list of floats whereas the label is a value that can be zero or one.\n",
    "\n",
    "**Copyright (c)** 2018 Massimiliano Patacchiola, MIT License"
   ]
  },
  {
   "cell_type": "code",
   "execution_count": null,
   "metadata": {
    "collapsed": true
   },
   "outputs": [],
   "source": []
  }
 ],
 "metadata": {
  "kernelspec": {
   "display_name": "Python 2",
   "language": "python",
   "name": "python2"
  },
  "language_info": {
   "codemirror_mode": {
    "name": "ipython",
    "version": 2
   },
   "file_extension": ".py",
   "mimetype": "text/x-python",
   "name": "python",
   "nbconvert_exporter": "python",
   "pygments_lexer": "ipython2",
   "version": "2.7.6"
  }
 },
 "nbformat": 4,
 "nbformat_minor": 0
}
